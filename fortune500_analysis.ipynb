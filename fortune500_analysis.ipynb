{
 "cells": [
  {
   "cell_type": "code",
   "execution_count": 1,
   "metadata": {},
   "outputs": [],
   "source": [
    "import pandas as pd\n",
    "import seaborn as sns \n",
    "import matplotlib.pyplot as plt\n",
    "\n",
    "file = pd.read_csv(\"/Users/siegfriedhaaan/python_vsc/fortune_500/fortune500_1955_2013.txt\")\n",
    "file.to_csv(\"/Users/siegfriedhaaan/python_vsc/fortune_500/fortune500_1955_2013.csv\")"
   ]
  },
  {
   "cell_type": "code",
   "execution_count": 2,
   "metadata": {},
   "outputs": [],
   "source": [
    "file.columns = ['Year', 'Rank', 'Company', 'Revenue', 'Profit']"
   ]
  },
  {
   "cell_type": "code",
   "execution_count": 3,
   "metadata": {},
   "outputs": [
    {
     "data": {
      "text/html": [
       "<div>\n",
       "<style scoped>\n",
       "    .dataframe tbody tr th:only-of-type {\n",
       "        vertical-align: middle;\n",
       "    }\n",
       "\n",
       "    .dataframe tbody tr th {\n",
       "        vertical-align: top;\n",
       "    }\n",
       "\n",
       "    .dataframe thead th {\n",
       "        text-align: right;\n",
       "    }\n",
       "</style>\n",
       "<table border=\"1\" class=\"dataframe\">\n",
       "  <thead>\n",
       "    <tr style=\"text-align: right;\">\n",
       "      <th></th>\n",
       "      <th>Year</th>\n",
       "      <th>Rank</th>\n",
       "      <th>Company</th>\n",
       "      <th>Revenue</th>\n",
       "      <th>Profit</th>\n",
       "    </tr>\n",
       "  </thead>\n",
       "  <tbody>\n",
       "    <tr>\n",
       "      <th>0</th>\n",
       "      <td>1955</td>\n",
       "      <td>1</td>\n",
       "      <td>General Motors</td>\n",
       "      <td>9823.5</td>\n",
       "      <td>806</td>\n",
       "    </tr>\n",
       "    <tr>\n",
       "      <th>1</th>\n",
       "      <td>1955</td>\n",
       "      <td>2</td>\n",
       "      <td>Exxon Mobil</td>\n",
       "      <td>5661.4</td>\n",
       "      <td>584.8</td>\n",
       "    </tr>\n",
       "    <tr>\n",
       "      <th>2</th>\n",
       "      <td>1955</td>\n",
       "      <td>3</td>\n",
       "      <td>U.S. Steel</td>\n",
       "      <td>3250.4</td>\n",
       "      <td>195.4</td>\n",
       "    </tr>\n",
       "    <tr>\n",
       "      <th>3</th>\n",
       "      <td>1955</td>\n",
       "      <td>4</td>\n",
       "      <td>General Electric</td>\n",
       "      <td>2959.1</td>\n",
       "      <td>212.6</td>\n",
       "    </tr>\n",
       "    <tr>\n",
       "      <th>4</th>\n",
       "      <td>1955</td>\n",
       "      <td>5</td>\n",
       "      <td>Esmark</td>\n",
       "      <td>2510.8</td>\n",
       "      <td>19.1</td>\n",
       "    </tr>\n",
       "    <tr>\n",
       "      <th>...</th>\n",
       "      <td>...</td>\n",
       "      <td>...</td>\n",
       "      <td>...</td>\n",
       "      <td>...</td>\n",
       "      <td>...</td>\n",
       "    </tr>\n",
       "    <tr>\n",
       "      <th>29995</th>\n",
       "      <td>2016</td>\n",
       "      <td>496</td>\n",
       "      <td>Telephone &amp; Data Systems</td>\n",
       "      <td>5176</td>\n",
       "      <td>219</td>\n",
       "    </tr>\n",
       "    <tr>\n",
       "      <th>29996</th>\n",
       "      <td>2016</td>\n",
       "      <td>497</td>\n",
       "      <td>First American Financial</td>\n",
       "      <td>5176</td>\n",
       "      <td>288</td>\n",
       "    </tr>\n",
       "    <tr>\n",
       "      <th>29997</th>\n",
       "      <td>2016</td>\n",
       "      <td>498</td>\n",
       "      <td>NVR</td>\n",
       "      <td>5170</td>\n",
       "      <td>383</td>\n",
       "    </tr>\n",
       "    <tr>\n",
       "      <th>29998</th>\n",
       "      <td>2016</td>\n",
       "      <td>499</td>\n",
       "      <td>Cincinnati Financial</td>\n",
       "      <td>5142</td>\n",
       "      <td>634</td>\n",
       "    </tr>\n",
       "    <tr>\n",
       "      <th>29999</th>\n",
       "      <td>2016</td>\n",
       "      <td>500</td>\n",
       "      <td>Burlington Stores</td>\n",
       "      <td>5130</td>\n",
       "      <td>151</td>\n",
       "    </tr>\n",
       "  </tbody>\n",
       "</table>\n",
       "<p>30000 rows × 5 columns</p>\n",
       "</div>"
      ],
      "text/plain": [
       "       Year  Rank                   Company Revenue Profit\n",
       "0      1955     1            General Motors  9823.5    806\n",
       "1      1955     2               Exxon Mobil  5661.4  584.8\n",
       "2      1955     3                U.S. Steel  3250.4  195.4\n",
       "3      1955     4          General Electric  2959.1  212.6\n",
       "4      1955     5                    Esmark  2510.8   19.1\n",
       "...     ...   ...                       ...     ...    ...\n",
       "29995  2016   496  Telephone & Data Systems    5176    219\n",
       "29996  2016   497  First American Financial    5176    288\n",
       "29997  2016   498                       NVR    5170    383\n",
       "29998  2016   499      Cincinnati Financial    5142    634\n",
       "29999  2016   500         Burlington Stores    5130    151\n",
       "\n",
       "[30000 rows x 5 columns]"
      ]
     },
     "execution_count": 3,
     "metadata": {},
     "output_type": "execute_result"
    }
   ],
   "source": [
    "file"
   ]
  },
  {
   "cell_type": "code",
   "execution_count": 4,
   "metadata": {},
   "outputs": [
    {
     "data": {
      "text/plain": [
       "Year        int64\n",
       "Rank        int64\n",
       "Company    object\n",
       "Revenue    object\n",
       "Profit     object\n",
       "dtype: object"
      ]
     },
     "execution_count": 4,
     "metadata": {},
     "output_type": "execute_result"
    }
   ],
   "source": [
    "file.dtypes"
   ]
  },
  {
   "cell_type": "markdown",
   "metadata": {},
   "source": [
    "Revenue and profit data types unexpectedly have objects within them. Will need to convert revenue and profit columns into floats"
   ]
  },
  {
   "cell_type": "code",
   "execution_count": 5,
   "metadata": {},
   "outputs": [
    {
     "name": "stdout",
     "output_type": "stream",
     "text": [
      "Unique values: ['N.A.']\n"
     ]
    },
    {
     "data": {
      "text/html": [
       "<div>\n",
       "<style scoped>\n",
       "    .dataframe tbody tr th:only-of-type {\n",
       "        vertical-align: middle;\n",
       "    }\n",
       "\n",
       "    .dataframe tbody tr th {\n",
       "        vertical-align: top;\n",
       "    }\n",
       "\n",
       "    .dataframe thead th {\n",
       "        text-align: right;\n",
       "    }\n",
       "</style>\n",
       "<table border=\"1\" class=\"dataframe\">\n",
       "  <thead>\n",
       "    <tr style=\"text-align: right;\">\n",
       "      <th></th>\n",
       "      <th>Year</th>\n",
       "      <th>Rank</th>\n",
       "      <th>Company</th>\n",
       "      <th>Revenue</th>\n",
       "      <th>Profit</th>\n",
       "    </tr>\n",
       "  </thead>\n",
       "  <tbody>\n",
       "    <tr>\n",
       "      <th>29003</th>\n",
       "      <td>2013</td>\n",
       "      <td>4</td>\n",
       "      <td>Phillips</td>\n",
       "      <td>N.A.</td>\n",
       "      <td>4124</td>\n",
       "    </tr>\n",
       "  </tbody>\n",
       "</table>\n",
       "</div>"
      ],
      "text/plain": [
       "       Year  Rank   Company Revenue Profit\n",
       "29003  2013     4  Phillips    N.A.   4124"
      ]
     },
     "execution_count": 5,
     "metadata": {},
     "output_type": "execute_result"
    }
   ],
   "source": [
    "revenue_non_floats = file.Revenue.str.contains(\"[^0-9.-]\")\n",
    "print(\"Unique values: \" + str(list(file.Revenue[revenue_non_floats])))\n",
    "file.loc[revenue_non_floats]"
   ]
  },
  {
   "cell_type": "code",
   "execution_count": 6,
   "metadata": {},
   "outputs": [
    {
     "data": {
      "text/html": [
       "<div>\n",
       "<style scoped>\n",
       "    .dataframe tbody tr th:only-of-type {\n",
       "        vertical-align: middle;\n",
       "    }\n",
       "\n",
       "    .dataframe tbody tr th {\n",
       "        vertical-align: top;\n",
       "    }\n",
       "\n",
       "    .dataframe thead th {\n",
       "        text-align: right;\n",
       "    }\n",
       "</style>\n",
       "<table border=\"1\" class=\"dataframe\">\n",
       "  <thead>\n",
       "    <tr style=\"text-align: right;\">\n",
       "      <th></th>\n",
       "      <th>Year</th>\n",
       "      <th>Rank</th>\n",
       "      <th>Company</th>\n",
       "      <th>Revenue</th>\n",
       "      <th>Profit</th>\n",
       "    </tr>\n",
       "  </thead>\n",
       "  <tbody>\n",
       "    <tr>\n",
       "      <th>228</th>\n",
       "      <td>1955</td>\n",
       "      <td>229</td>\n",
       "      <td>Norton</td>\n",
       "      <td>135</td>\n",
       "      <td>N.A.</td>\n",
       "    </tr>\n",
       "    <tr>\n",
       "      <th>290</th>\n",
       "      <td>1955</td>\n",
       "      <td>291</td>\n",
       "      <td>Schlitz Brewing</td>\n",
       "      <td>100</td>\n",
       "      <td>N.A.</td>\n",
       "    </tr>\n",
       "    <tr>\n",
       "      <th>294</th>\n",
       "      <td>1955</td>\n",
       "      <td>295</td>\n",
       "      <td>Pacific Vegetable Oil</td>\n",
       "      <td>97.9</td>\n",
       "      <td>N.A.</td>\n",
       "    </tr>\n",
       "    <tr>\n",
       "      <th>296</th>\n",
       "      <td>1955</td>\n",
       "      <td>297</td>\n",
       "      <td>Liebmann Breweries</td>\n",
       "      <td>96</td>\n",
       "      <td>N.A.</td>\n",
       "    </tr>\n",
       "    <tr>\n",
       "      <th>352</th>\n",
       "      <td>1955</td>\n",
       "      <td>353</td>\n",
       "      <td>Minneapolis-Moline</td>\n",
       "      <td>77.4</td>\n",
       "      <td>N.A.</td>\n",
       "    </tr>\n",
       "    <tr>\n",
       "      <th>...</th>\n",
       "      <td>...</td>\n",
       "      <td>...</td>\n",
       "      <td>...</td>\n",
       "      <td>...</td>\n",
       "      <td>...</td>\n",
       "    </tr>\n",
       "    <tr>\n",
       "      <th>27514</th>\n",
       "      <td>2010</td>\n",
       "      <td>15</td>\n",
       "      <td>General Motors</td>\n",
       "      <td>104589</td>\n",
       "      <td>N.A.</td>\n",
       "    </tr>\n",
       "    <tr>\n",
       "      <th>27741</th>\n",
       "      <td>2010</td>\n",
       "      <td>242</td>\n",
       "      <td>Lear</td>\n",
       "      <td>9739.6</td>\n",
       "      <td>N.A.</td>\n",
       "    </tr>\n",
       "    <tr>\n",
       "      <th>27831</th>\n",
       "      <td>2010</td>\n",
       "      <td>332</td>\n",
       "      <td>Charter Communications</td>\n",
       "      <td>6755</td>\n",
       "      <td>N.A.</td>\n",
       "    </tr>\n",
       "    <tr>\n",
       "      <th>28318</th>\n",
       "      <td>2011</td>\n",
       "      <td>319</td>\n",
       "      <td>Visteon</td>\n",
       "      <td>7466</td>\n",
       "      <td>N.A.</td>\n",
       "    </tr>\n",
       "    <tr>\n",
       "      <th>28368</th>\n",
       "      <td>2011</td>\n",
       "      <td>369</td>\n",
       "      <td>Smurfit-Stone Container</td>\n",
       "      <td>6286</td>\n",
       "      <td>N.A.</td>\n",
       "    </tr>\n",
       "  </tbody>\n",
       "</table>\n",
       "<p>374 rows × 5 columns</p>\n",
       "</div>"
      ],
      "text/plain": [
       "       Year  Rank                  Company Revenue Profit\n",
       "228    1955   229                   Norton     135   N.A.\n",
       "290    1955   291          Schlitz Brewing     100   N.A.\n",
       "294    1955   295    Pacific Vegetable Oil    97.9   N.A.\n",
       "296    1955   297       Liebmann Breweries      96   N.A.\n",
       "352    1955   353       Minneapolis-Moline    77.4   N.A.\n",
       "...     ...   ...                      ...     ...    ...\n",
       "27514  2010    15           General Motors  104589   N.A.\n",
       "27741  2010   242                     Lear  9739.6   N.A.\n",
       "27831  2010   332   Charter Communications    6755   N.A.\n",
       "28318  2011   319                  Visteon    7466   N.A.\n",
       "28368  2011   369  Smurfit-Stone Container    6286   N.A.\n",
       "\n",
       "[374 rows x 5 columns]"
      ]
     },
     "execution_count": 6,
     "metadata": {},
     "output_type": "execute_result"
    }
   ],
   "source": [
    "profit_non_floats = file.Profit.str.contains(\"[^0-9.-]\")\n",
    "file.loc[profit_non_floats]"
   ]
  },
  {
   "cell_type": "code",
   "execution_count": 7,
   "metadata": {},
   "outputs": [
    {
     "data": {
      "image/png": "[encoded data removed]",
      "text/plain": [
       "<Figure size 432x288 with 1 Axes>"
      ]
     },
     "metadata": {
      "needs_background": "light"
     },
     "output_type": "display_data"
    }
   ],
   "source": [
    "bin_sizes, _, _ = plt.hist(file.Year[profit_non_floats], bins = range(1955, 2013))"
   ]
  },
  {
   "cell_type": "markdown",
   "metadata": {},
   "source": [
    "According to the histogram, the number of wrong formatted profits never exceed 25 in a single year\n",
    "\n",
    "In a 58 year span, there are constantly 497 companies reporting their profit and revenue per year\n",
    "\n",
    "There are 374 data points within those 30,000 entries, that have no reports for their profit\n",
    "\n",
    "Therefore, removing those specific rows would result in a data loss of only about 1.2%\n",
    "\n",
    "It should be safe to remove these rows"
   ]
  },
  {
   "cell_type": "code",
   "execution_count": 8,
   "metadata": {},
   "outputs": [],
   "source": [
    "for index, row in file.iterrows(): \n",
    "    if row['Revenue'] == \"N.A.\":\n",
    "        file.drop(index, axis = 0, inplace = True)\n",
    "    if row['Profit'] == \"N.A.\":\n",
    "        file.drop(index, axis = 0, inplace = True)\n",
    "\n",
    "file['Revenue'] = pd.to_numeric(file['Revenue'],errors = 'raise')\n",
    "file['Profit'] = pd.to_numeric(file['Profit'],errors = 'raise')\n"
   ]
  },
  {
   "cell_type": "code",
   "execution_count": 9,
   "metadata": {},
   "outputs": [
    {
     "data": {
      "text/html": [
       "<div>\n",
       "<style scoped>\n",
       "    .dataframe tbody tr th:only-of-type {\n",
       "        vertical-align: middle;\n",
       "    }\n",
       "\n",
       "    .dataframe tbody tr th {\n",
       "        vertical-align: top;\n",
       "    }\n",
       "\n",
       "    .dataframe thead th {\n",
       "        text-align: right;\n",
       "    }\n",
       "</style>\n",
       "<table border=\"1\" class=\"dataframe\">\n",
       "  <thead>\n",
       "    <tr style=\"text-align: right;\">\n",
       "      <th></th>\n",
       "      <th>Year</th>\n",
       "      <th>Rank</th>\n",
       "      <th>Company</th>\n",
       "      <th>Revenue</th>\n",
       "      <th>Profit</th>\n",
       "    </tr>\n",
       "  </thead>\n",
       "  <tbody>\n",
       "    <tr>\n",
       "      <th>28999</th>\n",
       "      <td>2012</td>\n",
       "      <td>500</td>\n",
       "      <td>Molina Healthcare</td>\n",
       "      <td>4769.9</td>\n",
       "      <td>20.8</td>\n",
       "    </tr>\n",
       "    <tr>\n",
       "      <th>29000</th>\n",
       "      <td>2013</td>\n",
       "      <td>1</td>\n",
       "      <td>Wal-Mart Stores</td>\n",
       "      <td>469200.0</td>\n",
       "      <td>16999.0</td>\n",
       "    </tr>\n",
       "    <tr>\n",
       "      <th>29001</th>\n",
       "      <td>2013</td>\n",
       "      <td>2</td>\n",
       "      <td>Exxon Mobil</td>\n",
       "      <td>449900.0</td>\n",
       "      <td>44880.0</td>\n",
       "    </tr>\n",
       "    <tr>\n",
       "      <th>29002</th>\n",
       "      <td>2013</td>\n",
       "      <td>3</td>\n",
       "      <td>Chevron</td>\n",
       "      <td>233900.0</td>\n",
       "      <td>26179.0</td>\n",
       "    </tr>\n",
       "    <tr>\n",
       "      <th>29004</th>\n",
       "      <td>2013</td>\n",
       "      <td>5</td>\n",
       "      <td>Berkshire Hathaway</td>\n",
       "      <td>162500.0</td>\n",
       "      <td>14824.0</td>\n",
       "    </tr>\n",
       "    <tr>\n",
       "      <th>...</th>\n",
       "      <td>...</td>\n",
       "      <td>...</td>\n",
       "      <td>...</td>\n",
       "      <td>...</td>\n",
       "      <td>...</td>\n",
       "    </tr>\n",
       "    <tr>\n",
       "      <th>29995</th>\n",
       "      <td>2016</td>\n",
       "      <td>496</td>\n",
       "      <td>Telephone &amp; Data Systems</td>\n",
       "      <td>5176.0</td>\n",
       "      <td>219.0</td>\n",
       "    </tr>\n",
       "    <tr>\n",
       "      <th>29996</th>\n",
       "      <td>2016</td>\n",
       "      <td>497</td>\n",
       "      <td>First American Financial</td>\n",
       "      <td>5176.0</td>\n",
       "      <td>288.0</td>\n",
       "    </tr>\n",
       "    <tr>\n",
       "      <th>29997</th>\n",
       "      <td>2016</td>\n",
       "      <td>498</td>\n",
       "      <td>NVR</td>\n",
       "      <td>5170.0</td>\n",
       "      <td>383.0</td>\n",
       "    </tr>\n",
       "    <tr>\n",
       "      <th>29998</th>\n",
       "      <td>2016</td>\n",
       "      <td>499</td>\n",
       "      <td>Cincinnati Financial</td>\n",
       "      <td>5142.0</td>\n",
       "      <td>634.0</td>\n",
       "    </tr>\n",
       "    <tr>\n",
       "      <th>29999</th>\n",
       "      <td>2016</td>\n",
       "      <td>500</td>\n",
       "      <td>Burlington Stores</td>\n",
       "      <td>5130.0</td>\n",
       "      <td>151.0</td>\n",
       "    </tr>\n",
       "  </tbody>\n",
       "</table>\n",
       "<p>1000 rows × 5 columns</p>\n",
       "</div>"
      ],
      "text/plain": [
       "       Year  Rank                   Company   Revenue   Profit\n",
       "28999  2012   500         Molina Healthcare    4769.9     20.8\n",
       "29000  2013     1           Wal-Mart Stores  469200.0  16999.0\n",
       "29001  2013     2               Exxon Mobil  449900.0  44880.0\n",
       "29002  2013     3                   Chevron  233900.0  26179.0\n",
       "29004  2013     5        Berkshire Hathaway  162500.0  14824.0\n",
       "...     ...   ...                       ...       ...      ...\n",
       "29995  2016   496  Telephone & Data Systems    5176.0    219.0\n",
       "29996  2016   497  First American Financial    5176.0    288.0\n",
       "29997  2016   498                       NVR    5170.0    383.0\n",
       "29998  2016   499      Cincinnati Financial    5142.0    634.0\n",
       "29999  2016   500         Burlington Stores    5130.0    151.0\n",
       "\n",
       "[1000 rows x 5 columns]"
      ]
     },
     "execution_count": 9,
     "metadata": {},
     "output_type": "execute_result"
    }
   ],
   "source": [
    "# Verifying the removal of row 29,003\n",
    "file.tail(1000)"
   ]
  },
  {
   "cell_type": "code",
   "execution_count": 10,
   "metadata": {},
   "outputs": [
    {
     "data": {
      "text/plain": [
       "Year         int64\n",
       "Rank         int64\n",
       "Company     object\n",
       "Revenue    float64\n",
       "Profit     float64\n",
       "dtype: object"
      ]
     },
     "execution_count": 10,
     "metadata": {},
     "output_type": "execute_result"
    }
   ],
   "source": [
    "file.dtypes"
   ]
  },
  {
   "cell_type": "markdown",
   "metadata": {},
   "source": [
    "Data's now cleaned up, time to model "
   ]
  },
  {
   "cell_type": "code",
   "execution_count": 11,
   "metadata": {},
   "outputs": [],
   "source": [
    "sns.set(style = \"whitegrid\")\n",
    "\n",
    "# graph for average profits and revenues    \n",
    "def mean_graph(x, y, ax, title, label):\n",
    "    ax.set_title(title)\n",
    "    ax.set_label(label)\n",
    "    ax.plot(x, y)\n",
    "    ax.margins(x = 0, y = 0)"
   ]
  },
  {
   "cell_type": "code",
   "execution_count": 12,
   "metadata": {},
   "outputs": [],
   "source": [
    "grouping_year = file.loc[:, ['Year', 'Revenue', 'Profit']].groupby('Year')"
   ]
  },
  {
   "cell_type": "code",
   "execution_count": 13,
   "metadata": {},
   "outputs": [],
   "source": [
    "average = grouping_year.mean()\n",
    "x = average.index\n",
    "y = average.Profit"
   ]
  },
  {
   "cell_type": "code",
   "execution_count": 14,
   "metadata": {},
   "outputs": [
    {
     "data": {
      "image/png": "[encoded data removed]",
      "text/plain": [
       "<Figure size 432x288 with 1 Axes>"
      ]
     },
     "metadata": {},
     "output_type": "display_data"
    }
   ],
   "source": [
    "figure, ax = plt.subplots()\n",
    "mean_graph(x, y, ax, 'Average Fortune 500 Company Profits from 1955 to 2013', 'Profit')"
   ]
  },
  {
   "cell_type": "code",
   "execution_count": 15,
   "metadata": {},
   "outputs": [],
   "source": [
    "y_2 = average.Revenue"
   ]
  },
  {
   "cell_type": "code",
   "execution_count": 16,
   "metadata": {},
   "outputs": [
    {
     "data": {
      "image/png": "[encoded data removed]",
      "text/plain": [
       "<Figure size 432x288 with 1 Axes>"
      ]
     },
     "metadata": {},
     "output_type": "display_data"
    }
   ],
   "source": [
    "figure, ax = plt.subplots()\n",
    "mean_graph(x, y_2, ax, 'Average Fortune 500 Company Revenue from 1955 to 2013', 'Revenue')"
   ]
  },
  {
   "cell_type": "markdown",
   "metadata": {},
   "source": [
    "Revenue seems to be fairly stable in terms of growth. On the other hand, the huge dips in the profit graph seem to correspond to the early 1990's recession, the Dot-Com Bubble in the early 2000's, and the Great Recession in 2008. Public policies that are constructed in response to these dips, are clearly depicted by the rises in profit after the absolute minimum in any of the recessions. "
   ]
  },
  {
   "cell_type": "markdown",
   "metadata": {},
   "source": [
    "# Standard Deviation in mean profits from 1955 to 2013"
   ]
  },
  {
   "cell_type": "code",
   "execution_count": 17,
   "metadata": {},
   "outputs": [
    {
     "data": {
      "text/plain": [
       "<ErrorbarContainer object of 3 artists>"
      ]
     },
     "execution_count": 17,
     "metadata": {},
     "output_type": "execute_result"
    },
    {
     "data": {
      "image/png": "[encoded data removed]",
      "text/plain": [
       "<Figure size 432x288 with 1 Axes>"
      ]
     },
     "metadata": {},
     "output_type": "display_data"
    }
   ],
   "source": [
    "plt.errorbar(x, y, yerr = grouping_year.std().Profit)"
   ]
  },
  {
   "cell_type": "markdown",
   "metadata": {},
   "source": [
    "# Standard Deviation in mean revenue from 1955 to 2013"
   ]
  },
  {
   "cell_type": "code",
   "execution_count": 18,
   "metadata": {},
   "outputs": [
    {
     "data": {
      "text/plain": [
       "<ErrorbarContainer object of 3 artists>"
      ]
     },
     "execution_count": 18,
     "metadata": {},
     "output_type": "execute_result"
    },
    {
     "data": {
      "image/png": "[encoded data removed]",
      "text/plain": [
       "<Figure size 432x288 with 1 Axes>"
      ]
     },
     "metadata": {},
     "output_type": "display_data"
    }
   ],
   "source": [
    "plt.errorbar(x, y, yerr = grouping_year.std().Revenue)"
   ]
  },
  {
   "cell_type": "markdown",
   "metadata": {},
   "source": [
    "In the standard deviation graphs, we can see as overall revenues have increased, the disparity between company revenues has also increased. Due to a multitude of economic factors such as inflation and globalization, the disparity of profit and revenue for Fortune 500 companies has also skyrocketed. "
   ]
  }
 ],
 "metadata": {
  "interpreter": {
   "hash": "aee8b7b246df8f9039afb4144a1f6fd8d2ca17a180786b69acc140d282b71a49"
  },
  "kernelspec": {
   "display_name": "Python 3 (ipykernel)",
   "language": "python",
   "name": "python3"
  },
  "language_info": {
   "codemirror_mode": {
    "name": "ipython",
    "version": 3
   },
   "file_extension": ".py",
   "mimetype": "text/x-python",
   "name": "python",
   "nbconvert_exporter": "python",
   "pygments_lexer": "ipython3",
   "version": "3.9.7"
  }
 },
 "nbformat": 4,
 "nbformat_minor": 2
}
